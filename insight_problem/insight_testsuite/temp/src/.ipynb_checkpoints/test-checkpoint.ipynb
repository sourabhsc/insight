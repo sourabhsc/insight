{
 "cells": [
  {
   "cell_type": "code",
   "execution_count": 6,
   "metadata": {},
   "outputs": [
    {
     "name": "stdout",
     "output_type": "stream",
     "text": [
      "0\n",
      "1\n"
     ]
    }
   ],
   "source": [
    "\n",
    "############### USE LAMBDA ###########\n",
    "import os\n",
    "import math\n",
    "\n",
    "\n",
    "def sorting(property, dict_all, nrows):\n",
    "\n",
    "    unique_key = list(set(dict_all[property]))\n",
    "    unique_key = sorted(unique_key, key = str.lower)\n",
    "    counter = [0] * len(unique_key)\n",
    "    for j in range(len(unique_key)):\n",
    "        for i in range(nrows):\n",
    "            if unique_key[j] == dict_all[property][i]:\n",
    "                counter[j] = counter[j] + 1\n",
    "    c1 = [(x,y) for x, y in zip(unique_key, counter)]\n",
    "    c2 = sorted(c1, key=lambda x: x[1], reverse= True) \n",
    "    unique_key, counter =zip(*c2)\n",
    "    return unique_key, counter\n",
    "\n",
    "\n",
    "if __name__ == '__main__':\n",
    "\n",
    "    DIR = os.getcwd()\n",
    "    dir_test = '/insight_testsuite/tests/tests_1/'\n",
    "    output_stat = dict({'in_key':['SOC_NAME','WORKSITE_STATE'],\\\n",
    "                  'out_key': ['TOP_OCCUPATIONS', 'TOP_STATES'],\\\n",
    "                  'out_text':['occupations', 'states']}) \n",
    "    \n",
    "    out_keys = ['NUMBER_CERTIFIED_APPLICATIONS', 'PERCENTAGE']\n",
    "    \n",
    "    with open(DIR + '/..%s/input/h1b_input.csv'%(dir_test)) as fp:\n",
    "        for ii, line in enumerate(iter(fp.readline, '')):\n",
    "            if ii == 0:\n",
    "                keys = line.split(';')\n",
    "                dict_all = dict.fromkeys(keys)\n",
    "                for key in keys:\n",
    "                    dict_all[key] = []\n",
    "            else:\n",
    "                [dict_all[keys[j]].append(line.split(';')[j].replace('\"', '')) for j in range(len(keys))]\n",
    "\n",
    "    nrows = len(dict_all[''])\n",
    "    for j in range(2):\n",
    "        print (j)\n",
    "        unique_key, counter = sorting(output_stat['in_key'][j], dict_all, nrows)\n",
    "        keys_extend = out_keys + [output_stat['out_key'][j]]\n",
    "        dict_out = dict.fromkeys(keys_extend)\n",
    "        dict_out[output_stat['out_key'][j]] = unique_key\n",
    "        dict_out[out_keys[0]] = counter\n",
    "        dict_out[out_keys[1]] = [format((counter[x]*100/nrows),'.1f') for x in range(len(unique_key))]\n",
    "\n",
    "        with open(DIR+'/..%s/output/top_10_%s.txt'%(dir_test, output_stat['out_text']), 'w') as f:\n",
    "            f.write('%s;%s;%s\\n' % (keys_extend[0], keys_extend[1],keys_extend[2] ))\n",
    "            for i in range(len(unique_key)):\n",
    "                f.write('%s;%s;%s%%\\n' % (dict_out[output_stat['out_key'][j]][i],\\\n",
    "                                    dict_out[out_keys[0]][i],dict_out[out_keys[1]][i] ))"
   ]
  },
  {
   "cell_type": "code",
   "execution_count": null,
   "metadata": {},
   "outputs": [],
   "source": []
  },
  {
   "cell_type": "code",
   "execution_count": null,
   "metadata": {},
   "outputs": [],
   "source": []
  },
  {
   "cell_type": "code",
   "execution_count": null,
   "metadata": {},
   "outputs": [],
   "source": []
  }
 ],
 "metadata": {
  "kernelspec": {
   "display_name": "Python [conda env:sc_ulirg]",
   "language": "python",
   "name": "conda-env-sc_ulirg-py"
  },
  "language_info": {
   "codemirror_mode": {
    "name": "ipython",
    "version": 3
   },
   "file_extension": ".py",
   "mimetype": "text/x-python",
   "name": "python",
   "nbconvert_exporter": "python",
   "pygments_lexer": "ipython3",
   "version": "3.5.5"
  }
 },
 "nbformat": 4,
 "nbformat_minor": 2
}
